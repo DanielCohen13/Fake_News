{
 "cells": [
  {
   "cell_type": "markdown",
   "id": "2b472d62-ccbc-47a9-9506-5fd47bf1e90e",
   "metadata": {
    "jp-MarkdownHeadingCollapsed": true
   },
   "source": [
    "<div dir=\"rtl\">\n",
    "    \n",
    "### מלאו את הקובץ ושלחו לרז\n",
    "\n",
    "   - **ניתן למלא באנגלית או עברית**\n",
    "   - **מומלץ להשתמש בהמשך באותו הקובץ להגשת הפרויקט (מיחקו את התא הזה)**\n",
    "   - **הקפידו למלא טקסט בשדות מסוג מארק-דאון וקוד בשדות מסוג קוד (אחרת ירדו לכם נקודות)**\n",
    "     \n",
    "###   מלאו את כל הסעיפים. הניקוד ינתן באופן הבא:\n",
    "- **שם הפרויקט (3-4 מילים) - 5 נקודות** \n",
    "- **שמות מלאים של כל חברי הצוות, ללא ת.ז - 5 נקודות**\n",
    "- **תיאור הפרויקט (3-4 משפטים) - 10 נקודות**\n",
    "- **קישור למקור ממנו הורדתם את הנתונים - 10 נקודות**\n",
    "- **קריאת הקובץ מהגיטהאב שלכם - 10 נקודות**\n",
    "- **הסבר על מקור הנתונים - 10 נקודות**\n",
    "- **תיאור קצר של הדאטה בעזרת הפקודות שנלמדו בקורס - 20 נקודות**\n",
    "- **שלוש שאלות ראשוניות של דברים שהיה מעניין אתכם להוציא מהקובץ - 30 נקודות**\n",
    "#### בהצלחה !\n",
    "</div>"
   ]
  },
  {
   "cell_type": "markdown",
   "id": "a275784e-8460-4468-98f0-e7755b6986f7",
   "metadata": {},
   "source": [
    "# Project Name: `Behind the Headlines: Exploring Fake News`\n"
   ]
  },
  {
   "cell_type": "markdown",
   "id": "6921219d-f822-482a-8986-760fb55fc518",
   "metadata": {},
   "source": [
    "### Project team members: \n",
    "- `Neta Aharoni`\n",
    "- `Daniel Cohen`\n",
    "- `Maoz Goldberg`"
   ]
  },
  {
   "cell_type": "markdown",
   "id": "9b1b8607-f4b8-4bf0-b524-1a7e7d3200f6",
   "metadata": {},
   "source": [
    "### Project number: <insert here>\n",
    "`3`"
   ]
  },
  {
   "cell_type": "markdown",
   "id": "1935e972-e267-49ee-b637-abe0202cca05",
   "metadata": {},
   "source": [
    "### Project description: \n",
    "`In this project, we analyze a dataset of news articles labeled as real or fake, from different media sources. Our goal is to find clear patterns that separate fake news from real news by looking at features like clickbait level, trust score, political bias, and more`"
   ]
  },
  {
   "cell_type": "markdown",
   "id": "b043a0ae-6e42-4120-8997-5724eb01acf1",
   "metadata": {},
   "source": [
    "### Link to the data: \n",
    "[Fake News - Kaggle](https://www.kaggle.com/datasets/khushikyad001/fake-news-detection/data)\n"
   ]
  },
  {
   "cell_type": "markdown",
   "id": "5a50c015-5907-45c3-8aef-bacaf1c00c6a",
   "metadata": {},
   "source": [
    "### Explain the data source:\n",
    "`This data was gathered from Kaggle, and it was constructed using a mix of publicly available real and fake news sources, including:`\n",
    "\n",
    "`1. Fact-Checked Real News:\n",
    "Collected from trusted sources such as CNN, BBC, Reuters, The New York Times, and The Guardian.`\n",
    "\n",
    "`2. Fake News & Misinformation:\n",
    "Curated from known unreliable websites such as The Onion, InfoWars, and fabricated misinformation reports collected from fact-checking sites like Snopes, Politifact, and FactCheck.org.`\n",
    "\n",
    "`3. Open Datasets:\n",
    "Inspired by existing fake news detection datasets on Kaggle, academic research papers, and media bias tracking organizations`"
   ]
  },
  {
   "cell_type": "markdown",
   "id": "a66dd24f-ed31-42b8-b6fe-425a4a87e535",
   "metadata": {},
   "source": [
    "----"
   ]
  },
  {
   "cell_type": "markdown",
   "id": "40924565-a0c6-4f91-b4c1-57816a816cbe",
   "metadata": {},
   "source": [
    "#### Read you file from Github:"
   ]
  },
  {
   "cell_type": "code",
   "execution_count": 10,
   "id": "5dbc7e4b-6bbf-40f0-825d-30b1eb4b6ac6",
   "metadata": {},
   "outputs": [],
   "source": [
    "import pandas as pd\n",
    "url = \"https://raw.githubusercontent.com/DanielCohen13/Fake_News/refs/heads/main/fake_news_dataset.csv\"\n",
    "fake_news_df = pd.read_csv(url)"
   ]
  },
  {
   "cell_type": "code",
   "execution_count": null,
   "id": "10ba557c-f1b4-45cf-8771-2764ad1a02de",
   "metadata": {},
   "outputs": [],
   "source": []
  },
  {
   "cell_type": "markdown",
   "id": "f2a78930-bf7b-4d50-902b-c35a91b19ab0",
   "metadata": {},
   "source": [
    "#### Describe the data\n",
    "* How many rows?\n",
    "* How many columns?\n",
    "* How many numeric columns? (not including numerical identifiers - numbers that uniquely define the row)\n",
    "* How many categorical columns? (not including string identifiers -  values that uniquely define the row)"
   ]
  },
  {
   "cell_type": "code",
   "execution_count": 12,
   "id": "318da777-a227-4189-a7ac-164c840e8027",
   "metadata": {},
   "outputs": [
    {
     "data": {
      "text/plain": [
       "(4000, 24)"
      ]
     },
     "execution_count": 12,
     "metadata": {},
     "output_type": "execute_result"
    }
   ],
   "source": [
    "fake_news_df.shape"
   ]
  },
  {
   "cell_type": "code",
   "execution_count": 13,
   "id": "c92f0aeb-7103-4225-8b74-f4545328a145",
   "metadata": {},
   "outputs": [
    {
     "data": {
      "text/plain": [
       "13"
      ]
     },
     "execution_count": 13,
     "metadata": {},
     "output_type": "execute_result"
    }
   ],
   "source": [
    "numeric_columns = fake_news_df.select_dtypes(include='number').drop(columns='id')\n",
    "num_numeric_columns = numeric_columns.shape[1]\n",
    "num_numeric_columns"
   ]
  },
  {
   "cell_type": "code",
   "execution_count": 14,
   "id": "bb13e178-dbc0-45b8-8a4d-848c44234e03",
   "metadata": {},
   "outputs": [
    {
     "data": {
      "text/plain": [
       "8"
      ]
     },
     "execution_count": 14,
     "metadata": {},
     "output_type": "execute_result"
    }
   ],
   "source": [
    "categorical_columns = fake_news_df.select_dtypes(include='object').drop(columns=['title', 'text'])\n",
    "num_categorical_columns = categorical_columns.shape[1]\n",
    "num_categorical_columns"
   ]
  },
  {
   "cell_type": "markdown",
   "id": "67cbfe4e-1a60-4460-8cc1-e98ea9813fa8",
   "metadata": {},
   "source": [
    "#### Write three questions you would like to answer using this data"
   ]
  },
  {
   "cell_type": "markdown",
   "id": "4470f031-7d4f-4814-8f36-549be16c2eea",
   "metadata": {},
   "source": [
    "1. Which category (sports, technology, etc.) has the most fake news?"
   ]
  },
  {
   "cell_type": "markdown",
   "id": "3f76efd8-a896-4758-a774-811abd08e9ab",
   "metadata": {},
   "source": [
    "2. Is there a correlation between lower source reputation (column: source_reputation) and a higher number of fake news articles?"
   ]
  },
  {
   "cell_type": "markdown",
   "id": "b7972801-dab3-4405-9ac9-c025162d858d",
   "metadata": {},
   "source": [
    "3. Is political leaning (left / right / center) more associated with fake or real news?"
   ]
  },
  {
   "cell_type": "code",
   "execution_count": null,
   "id": "83834c34-3883-4a98-8d9d-7f26e7f09f2e",
   "metadata": {},
   "outputs": [],
   "source": []
  },
  {
   "cell_type": "code",
   "execution_count": null,
   "id": "c241c7ac-513e-4862-8012-665d29598a78",
   "metadata": {},
   "outputs": [],
   "source": []
  },
  {
   "cell_type": "markdown",
   "id": "dc311a43-0865-4458-acb9-e5bb00769069",
   "metadata": {},
   "source": [
    "<div style=\"background-color: #f0f0f0; padding: 10px; border-radius: 5px;\">\n",
    "  <span style=\"color: red;\"><strong>— Do not proceed beyond this point. This is for the next steps, do not fill in —</strong></span>\n",
    "</div>\n"
   ]
  },
  {
   "cell_type": "markdown",
   "id": "37abd2f7-3901-41d5-bfb3-e30d1b79dd34",
   "metadata": {},
   "source": [
    "---\n",
    "### <span style=\"color:green\"> Observation 1:</span>\n",
    "\n",
    ">\n",
    "> \n",
    ">\n",
    "> \n",
    "\n",
    "\n",
    "---"
   ]
  },
  {
   "cell_type": "code",
   "execution_count": null,
   "id": "786aab2d-6e34-4d95-937d-1244062116de",
   "metadata": {},
   "outputs": [],
   "source": []
  },
  {
   "cell_type": "code",
   "execution_count": null,
   "id": "4b6a7501-4d00-44bd-a819-685c14950060",
   "metadata": {},
   "outputs": [],
   "source": []
  },
  {
   "cell_type": "code",
   "execution_count": null,
   "id": "8dca1901-eaaf-4c56-b2a0-c071dfa05a44",
   "metadata": {},
   "outputs": [],
   "source": []
  },
  {
   "cell_type": "markdown",
   "id": "dabb806f-f18c-419a-b144-1e60ec5ce800",
   "metadata": {},
   "source": [
    "---\n",
    "### <span style=\"color:green\"> Observation 2:</span>\n",
    "\n",
    ">\n",
    "> \n",
    ">\n",
    "> \n",
    "\n",
    "\n",
    "---"
   ]
  },
  {
   "cell_type": "code",
   "execution_count": null,
   "id": "84301767-29e7-4c06-8ffa-e13d6a814d03",
   "metadata": {},
   "outputs": [],
   "source": []
  },
  {
   "cell_type": "code",
   "execution_count": null,
   "id": "6df3dfb1-5b21-4ad9-a524-b2978a2480d8",
   "metadata": {},
   "outputs": [],
   "source": []
  },
  {
   "cell_type": "code",
   "execution_count": null,
   "id": "34a9ee94-3b65-4b0a-a7f4-11a0ef4e700b",
   "metadata": {},
   "outputs": [],
   "source": []
  },
  {
   "cell_type": "markdown",
   "id": "d6c0aad1-ba36-496c-911d-6047a95c2b2d",
   "metadata": {},
   "source": [
    "---\n",
    "### <span style=\"color:green\"> Observation 3:</span>\n",
    "\n",
    ">\n",
    "> \n",
    ">\n",
    "> \n",
    "\n",
    "\n",
    "---"
   ]
  },
  {
   "cell_type": "code",
   "execution_count": null,
   "id": "d95ccb40-2e2b-470b-9c21-14cac0ff759c",
   "metadata": {},
   "outputs": [],
   "source": []
  },
  {
   "cell_type": "code",
   "execution_count": null,
   "id": "eb14a9f4-f33d-43f2-9e33-713254c2b122",
   "metadata": {},
   "outputs": [],
   "source": []
  },
  {
   "cell_type": "code",
   "execution_count": null,
   "id": "35655047-ecaa-4051-bbcd-c870764e80d0",
   "metadata": {},
   "outputs": [],
   "source": []
  },
  {
   "cell_type": "markdown",
   "id": "9b3f378b-0c61-4edf-9b36-a1cf55c3a5b5",
   "metadata": {},
   "source": [
    "---\n",
    "### <span style=\"color:green\"> Summary</span>\n",
    "\n",
    "> Anything you'd like to say - your conclusions, summary, how hard you worked etc.\n",
    "> \n",
    ">    \n",
    ">   \n",
    "   \n",
    "\n",
    "---"
   ]
  },
  {
   "cell_type": "code",
   "execution_count": null,
   "id": "9364ddf3-4fcb-4d4e-9ff6-0ab697e01e94",
   "metadata": {},
   "outputs": [],
   "source": []
  }
 ],
 "metadata": {
  "kernelspec": {
   "display_name": "Python [conda env:base] *",
   "language": "python",
   "name": "conda-base-py"
  },
  "language_info": {
   "codemirror_mode": {
    "name": "ipython",
    "version": 3
   },
   "file_extension": ".py",
   "mimetype": "text/x-python",
   "name": "python",
   "nbconvert_exporter": "python",
   "pygments_lexer": "ipython3",
   "version": "3.12.7"
  }
 },
 "nbformat": 4,
 "nbformat_minor": 5
}
